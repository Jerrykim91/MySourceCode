{
 "cells": [
  {
   "cell_type": "markdown",
   "metadata": {},
   "source": [
    "# 텐서플로우의 변수와 상수 \n"
   ]
  },
  {
   "cell_type": "code",
   "execution_count": 1,
   "metadata": {},
   "outputs": [],
   "source": [
    "# 상수 constant"
   ]
  },
  {
   "cell_type": "code",
   "execution_count": 2,
   "metadata": {},
   "outputs": [],
   "source": [
    "import tensorflow as tf"
   ]
  },
  {
   "cell_type": "code",
   "execution_count": 3,
   "metadata": {},
   "outputs": [],
   "source": [
    "# 텐서의 자료형을 반환한다. => 텐서는 배열과 유사  인정 ? \n",
    "# a = tf.constant(1)\n",
    "# b = tf.constant(2)\n",
    "# c = tf.add(a, b)"
   ]
  },
  {
   "cell_type": "code",
   "execution_count": 4,
   "metadata": {},
   "outputs": [],
   "source": [
    "# 세션을 통해 세션객체가 식을 실행 시키는 그런것\n",
    "# sess = tf.Session()\n",
    "# sess.run(c)"
   ]
  },
  {
   "cell_type": "code",
   "execution_count": 6,
   "metadata": {},
   "outputs": [],
   "source": [
    "# 세션을 통해 실질적으로 연산을 시키기전에는 동작하지 않는다. \n",
    "#print(c) # 그저 텐서의 자료형일 뿐 그냥 식만 정의하고 있는것 뿐이다. \n",
    "# => Tensor( \"Add:0\", shape=(), dtype=int32 )\n",
    "#연산을 하기위해서는 세션을 통과하는것이 좋다."
   ]
  },
  {
   "cell_type": "markdown",
   "metadata": {},
   "source": [
    "### 텐서플로우는 덴서와 그 텐서의 데이터의 흐름 즉, 플로우를 적절히 사용하는것이다. \n",
    "- 프로그램의 동작은 세션을 생성하여서 동작(Run)시키는 방식으로 이루어진다. "
   ]
  },
  {
   "cell_type": "code",
   "execution_count": 7,
   "metadata": {},
   "outputs": [],
   "source": [
    "# 변수 : 변경 될 수 있는 값 \n",
    "#변수는 Variable() 함수를 이용해서 정의 "
   ]
  },
  {
   "cell_type": "code",
   "execution_count": 9,
   "metadata": {},
   "outputs": [],
   "source": [
    "A = tf.Variable(5)\n",
    "B = tf.Variable(3)\n",
    "C = tf.multiply(A,B) #multiply=>  a*b"
   ]
  },
  {
   "cell_type": "code",
   "execution_count": 10,
   "metadata": {},
   "outputs": [
    {
     "data": {
      "text/plain": [
       "15"
      ]
     },
     "execution_count": 10,
     "metadata": {},
     "output_type": "execute_result"
    }
   ],
   "source": [
    "# 변수 생성했으면 초기화 => 텐서플로우에 적용할수있는 형태로 초기화 \n",
    "init = tf.global_variables_initializer()\n",
    "# 세션 변수 선언 \n",
    "sess = tf.Session()\n",
    "sess.run(init) # 세션을 통해 초기화\n",
    "sess.run(C)"
   ]
  },
  {
   "cell_type": "code",
   "execution_count": 13,
   "metadata": {},
   "outputs": [
    {
     "data": {
      "text/plain": [
       "15"
      ]
     },
     "execution_count": 13,
     "metadata": {},
     "output_type": "execute_result"
    }
   ],
   "source": [
    "A = tf.Variable(15)\n",
    "sess.run(C) # C를 초기화 안해줘서 변수에 다른값을 넣어도 그대로 출력되는거임!\n"
   ]
  },
  {
   "cell_type": "code",
   "execution_count": null,
   "metadata": {},
   "outputs": [],
   "source": [
    "# 변수 값이 바귀면 일일히 초기화를 시켜줘야한다. "
   ]
  }
 ],
 "metadata": {
  "kernelspec": {
   "display_name": "Python 3",
   "language": "python",
   "name": "python3"
  },
  "language_info": {
   "codemirror_mode": {
    "name": "ipython",
    "version": 3
   },
   "file_extension": ".py",
   "mimetype": "text/x-python",
   "name": "python",
   "nbconvert_exporter": "python",
   "pygments_lexer": "ipython3",
   "version": "3.6.5"
  }
 },
 "nbformat": 4,
 "nbformat_minor": 2
}
