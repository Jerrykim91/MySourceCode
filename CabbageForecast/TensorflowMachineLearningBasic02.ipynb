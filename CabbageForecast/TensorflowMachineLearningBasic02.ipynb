{
 "cells": [
  {
   "cell_type": "markdown",
   "metadata": {},
   "source": [
    "## 텐서플로우(Tensorflow) 플레이스 홀더(Placeholder)\n",
    "\n",
    " - 플레이스 홀더 => 다른텐서를 할당하기 위해 사용합니다. \n",
    " - 피딩 => 값을 할당하는 과정 \n",
    " - 텐서는 다차원 배열같은 형태를 가지고 있다.\n",
    " - 플레이스 홀더 = 학습데이터를 포함하는 변수 \n",
    " <img src=\"./data/Placeholder.PNG\" width=\"100%\" height=\"100%\">\n",
    " - x값이 플레이스 홀더가 된다. "
   ]
  },
  {
   "cell_type": "code",
   "execution_count": 15,
   "metadata": {},
   "outputs": [],
   "source": [
    "# tf.placeholder(dtype, shape, name)\n",
    "# dtype : 플레이스 홀더에 저장되는 자료형을 의미합니다. \n",
    "# shape : 배열의 차원을 의미\n",
    "# name : 플레이스 홀더의 이름을 의미 \n",
    "# 피딩(Feeding)을 이용해 플레이스 홀더를 실제 학습용데이터로 설정 "
   ]
  },
  {
   "cell_type": "code",
   "execution_count": 2,
   "metadata": {},
   "outputs": [],
   "source": [
    "import tensorflow as tf"
   ]
  },
  {
   "cell_type": "code",
   "execution_count": 3,
   "metadata": {},
   "outputs": [],
   "source": [
    "input = [1, 2, 3, 4, 5]"
   ]
  },
  {
   "cell_type": "code",
   "execution_count": 4,
   "metadata": {},
   "outputs": [],
   "source": [
    "x = tf.placeholder(dtype=tf.float32)\n",
    "y = x + 5 "
   ]
  },
  {
   "cell_type": "code",
   "execution_count": 7,
   "metadata": {},
   "outputs": [],
   "source": [
    "sess = tf.Session()"
   ]
  },
  {
   "cell_type": "code",
   "execution_count": 6,
   "metadata": {},
   "outputs": [
    {
     "data": {
      "text/plain": [
       "array([ 6.,  7.,  8.,  9., 10.], dtype=float32)"
      ]
     },
     "execution_count": 6,
     "metadata": {},
     "output_type": "execute_result"
    }
   ],
   "source": [
    "sess.run( y, feed_dict={x:input})"
   ]
  },
  {
   "cell_type": "code",
   "execution_count": 12,
   "metadata": {},
   "outputs": [],
   "source": [
    "# 수학 성적 N 영어 성적\n",
    "mathScore = [85, 99, 84, 97, 92]\n",
    "englishScore = [59, 80, 84, 68, 77]"
   ]
  },
  {
   "cell_type": "code",
   "execution_count": 9,
   "metadata": {},
   "outputs": [],
   "source": [
    "a = tf.placeholder( dtype = tf.float32 )\n",
    "b = tf.placeholder( dtype= tf.float32 )\n",
    "y = ( a + b ) / 2"
   ]
  },
  {
   "cell_type": "code",
   "execution_count": 10,
   "metadata": {},
   "outputs": [],
   "source": [
    "# 변수 생성했으면 초기화 => 텐서플로우에 적용할수있는 형태로 초기화 \n",
    "init = tf.global_variables_initializer()\n",
    "sess = tf.Session()\n",
    "sess.run(init)"
   ]
  },
  {
   "cell_type": "code",
   "execution_count": 13,
   "metadata": {},
   "outputs": [
    {
     "data": {
      "text/plain": [
       "array([72. , 89.5, 84. , 82.5, 84.5], dtype=float32)"
      ]
     },
     "execution_count": 13,
     "metadata": {},
     "output_type": "execute_result"
    }
   ],
   "source": [
    "sess.run(y,feed_dict={a:mathScore, b:englishScore})"
   ]
  }
 ],
 "metadata": {
  "kernelspec": {
   "display_name": "Python 3",
   "language": "python",
   "name": "python3"
  },
  "language_info": {
   "codemirror_mode": {
    "name": "ipython",
    "version": 3
   },
   "file_extension": ".py",
   "mimetype": "text/x-python",
   "name": "python",
   "nbconvert_exporter": "python",
   "pygments_lexer": "ipython3",
   "version": "3.6.5"
  }
 },
 "nbformat": 4,
 "nbformat_minor": 2
}
