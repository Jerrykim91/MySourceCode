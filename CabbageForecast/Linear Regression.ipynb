{
 "cells": [
  {
   "cell_type": "markdown",
   "metadata": {},
   "source": [
    "# 선형_회귀(Linear Regression)\n",
    "- 직선적 \n",
    "- 주어진 데이터를 이용해 일차방정식을 수정해 나가는 것\n",
    "- 학습을 걸쳐서 식을 수정해나가면서 학습하는 방식 \n",
    "\n",
    "## 비용 (cost)\n",
    "- 가설이 얼마나 정확한지를 파악하는 기준\n",
    "- (예측 값 - 실제 값)\\*\\*2 의 평균\n",
    "- 현재의 W(기울기),b(y값) 값과 데이터를 이용하면 비용함수를 구할수 있음 => 비용함수로 구한 비용이 적을술로 좋다.\n",
    "\n",
    "<img src=\"./data/CostFunction.PNG\" width=\"50%\" height=\"50%\">\n",
    "\n",
    "## 경사 하강(GradientDescent)\n",
    "- 경사 하강을 이용해 합리적인 식을 도출 \n",
    "-  경사를 타고 내려가서 경사하강법 ... -> 미분과 기울기\n",
    "- 점프 -> 적당히 => 크면 폭이커 학습결과가 부정확하고 적으면 오랫동안 학습해야한다. \n",
    "- 텐서플로우에 Lib 존재 \n",
    "<img src=\"./data/GradientDescent.PNG\" width=\"50%\" height=\"50%\">\n"
   ]
  },
  {
   "cell_type": "code",
   "execution_count": 1,
   "metadata": {},
   "outputs": [],
   "source": [
    "# import \n",
    "import tensorflow as tf"
   ]
  },
  {
   "cell_type": "code",
   "execution_count": 2,
   "metadata": {},
   "outputs": [],
   "source": [
    "xData = [1, 2, 3, 4, 5, 6, 7]\n",
    "yData = [25000, 55000, 75000, 110000, 128000, 155000, 180000 ]"
   ]
  },
  {
   "cell_type": "code",
   "execution_count": 3,
   "metadata": {
    "scrolled": true
   },
   "outputs": [
    {
     "name": "stdout",
     "output_type": "stream",
     "text": [
      "WARNING:tensorflow:From C:\\Users\\sun41\\AppData\\Local\\Continuum\\anaconda3\\lib\\site-packages\\tensorflow\\python\\framework\\op_def_library.py:263: colocate_with (from tensorflow.python.framework.ops) is deprecated and will be removed in a future version.\n",
      "Instructions for updating:\n",
      "Colocations handled automatically by placer.\n"
     ]
    }
   ],
   "source": [
    "#가중치\n",
    "W = tf.Variable(tf.random_uniform([1],-100, 100))\n",
    "# Y절편 => # 바이어스(편차) \n",
    "b = tf.Variable(tf.random_uniform([1],-100, 100))"
   ]
  },
  {
   "cell_type": "code",
   "execution_count": 4,
   "metadata": {},
   "outputs": [],
   "source": [
    "# X,Y 값 선언 틀 만들기 \n",
    "X = tf.placeholder(tf.float32)\n",
    "Y = tf.placeholder(tf.float32)"
   ]
  },
  {
   "cell_type": "code",
   "execution_count": 5,
   "metadata": {},
   "outputs": [],
   "source": [
    "# 가설 정하기 (일차식)\n",
    "H = W * X + b\n",
    "# 비용함수 정의 => square = 제곱을 의미 \n",
    "cost = tf.reduce_mean(tf.square(H-Y))"
   ]
  },
  {
   "cell_type": "code",
   "execution_count": 6,
   "metadata": {},
   "outputs": [],
   "source": [
    "# 중요 **\n",
    "# 경사하강 알고리즘에서 얼마만큼 점프를 하는지 정의해줌\n",
    "a = tf.Variable(0.01) # 스텝의 크기를 정의 -> 옵티마이저 안에 들어간다."
   ]
  },
  {
   "cell_type": "code",
   "execution_count": null,
   "metadata": {},
   "outputs": [],
   "source": [
    "# 중요 **\n",
    "# 텐서플로우에서 기본적으로 정의해주는 경사하강(GradientDescent) 라이브러리 \n",
    "optimizer = tf.train.GradientDescentOptimizer(a)"
   ]
  },
  {
   "cell_type": "code",
   "execution_count": 8,
   "metadata": {},
   "outputs": [],
   "source": [
    "# 비용함수를 적게 만드는 방향으로 학습하도록 gogo\n",
    "train = optimizer.minimize(cost)\n",
    "# 초기화 \n",
    "init = tf.global_variables_initializer()"
   ]
  },
  {
   "cell_type": "code",
   "execution_count": 9,
   "metadata": {},
   "outputs": [],
   "source": [
    "# 텐서플로우에서 세션을 불러온 변수에 담아 초기화!!\n",
    "sess = tf.Session()\n",
    "sess.run(init)"
   ]
  },
  {
   "cell_type": "code",
   "execution_count": 12,
   "metadata": {},
   "outputs": [
    {
     "name": "stdout",
     "output_type": "stream",
     "text": [
      "0 8632656.0 [25642.848] [1428.6133]\n",
      "500 8632656.0 [25642.848] [1428.6133]\n",
      "1000 8632656.0 [25642.848] [1428.6133]\n",
      "1500 8632656.0 [25642.848] [1428.6133]\n",
      "2000 8632656.0 [25642.848] [1428.6133]\n",
      "2500 8632656.0 [25642.848] [1428.6133]\n",
      "3000 8632656.0 [25642.848] [1428.6133]\n",
      "3500 8632656.0 [25642.848] [1428.6133]\n",
      "4000 8632656.0 [25642.848] [1428.6133]\n",
      "4500 8632656.0 [25642.848] [1428.6133]\n",
      "5000 8632656.0 [25642.848] [1428.6133]\n",
      "[206571.39]\n"
     ]
    }
   ],
   "source": [
    "# 실제로 학습을 진행 해봅시다.\n",
    "for i in range(5001): # 실제 학습 횟수 => 5000번 힉습\n",
    "    # 학습 진행 \n",
    "    sess.run(train,feed_dict={ X: xData, Y: yData })\n",
    "    if i % 500 == 0:\n",
    "        # 머신러닝 과정을 출력을 함으로서 보여준다. \n",
    "        # 현재까지 진행된 학습의 횟수를 보여주게 출력한다. \n",
    "        # 비용값 , 가중치값 , 현재의 y값 출력 \n",
    "        print(i, sess.run(cost, feed_dict={ X: xData, Y: yData }), sess.run(W), sess.run(b))\n",
    "# 8시간 일했을때의 예측 계산 \n",
    "print(sess.run(H, feed_dict={X:[8]}))"
   ]
  },
  {
   "cell_type": "code",
   "execution_count": null,
   "metadata": {},
   "outputs": [],
   "source": []
  }
 ],
 "metadata": {
  "kernelspec": {
   "display_name": "Python 3",
   "language": "python",
   "name": "python3"
  },
  "language_info": {
   "codemirror_mode": {
    "name": "ipython",
    "version": 3
   },
   "file_extension": ".py",
   "mimetype": "text/x-python",
   "name": "python",
   "nbconvert_exporter": "python",
   "pygments_lexer": "ipython3",
   "version": "3.6.5"
  }
 },
 "nbformat": 4,
 "nbformat_minor": 2
}
