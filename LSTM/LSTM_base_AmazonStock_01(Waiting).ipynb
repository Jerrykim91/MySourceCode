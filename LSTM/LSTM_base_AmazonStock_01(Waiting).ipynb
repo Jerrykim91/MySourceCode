{
 "cells": [
  {
   "cell_type": "code",
   "execution_count": 1,
   "metadata": {},
   "outputs": [],
   "source": [
    "#  주소 => LSTM 다시 읽고 싶으면 여기 블로그로 이동 \n",
    "# https://dgkim5360.tistory.com/entry/understanding-long-short-term-memory-lstm-kr"
   ]
  },
  {
   "cell_type": "markdown",
   "metadata": {},
   "source": [
    "### 아마존 주가 데이터 다운 \n",
    "https://finance.yahoo.com/quote/AMZN/history?p=AMZN\n",
    "\n",
    "<블로그>\n",
    "https://m.blog.naver.com/wideeyed/221160038616"
   ]
  },
  {
   "cell_type": "code",
   "execution_count": 2,
   "metadata": {},
   "outputs": [],
   "source": [
    "import tensorflow as tf \n",
    "import numpy as np \n",
    "import pandas as pd \n",
    "import datetime\n",
    "import matplotlib.pyplot as plt\n",
    "% %matplotlib inline"
   ]
  },
  {
   "cell_type": "code",
   "execution_count": 3,
   "metadata": {},
   "outputs": [],
   "source": [
    "# 랜덤에 의해 독같은 결과를 재현하도록 시드 설정 \n",
    "# 하이퍼 파라미터를 튜닝하기위해 시드를 설정하는것 \n",
    "tf.set_random_seed(777)"
   ]
  },
  {
   "cell_type": "code",
   "execution_count": 5,
   "metadata": {},
   "outputs": [],
   "source": [
    "# 표준화(Standardization)\n",
    "def data_Standardization(x):\n",
    "    x_np = np.asarray(x)\n",
    "    return(x_np - x_np.mean())/ x_np.std()"
   ]
  },
  {
   "cell_type": "code",
   "execution_count": 8,
   "metadata": {},
   "outputs": [],
   "source": [
    "# 정규화 \n",
    "# 불규칙한 값이학습을 방해할수 있으므로 정규화를 진행 \n",
    "# x가 양수라는 가정하에 최대최소를 이용해서 0~1 값으로 변환 \n",
    "# Min-Max scaling\n",
    "def min_max_scaling(x):\n",
    "    x_np = np.asarray(x)\n",
    "    return(x_np - x_np.min())/ (x_np.mix() - x_np.min() + 1e-7) # # 1e-7은 0으로 나누는 오류 예방차원"
   ]
  },
  {
   "cell_type": "code",
   "execution_count": 9,
   "metadata": {},
   "outputs": [],
   "source": [
    "# 정규화 된 값을 원래대로 돌린다. \n",
    "# 정규화하기 이전의 org_x값과 되돌리고 싶은 x를 입력하면 역정규화된 값을 리턴한다\n",
    "def reverse_min_max_scaling(org_x, x):\n",
    "    org_x_np = np.asarray(org_x)\n",
    "    x_np = np.asarray(x)\n",
    "    return (x_np * (org_x_np.max() - org_x_np.min() + 1e-7)) + org_x_np.min()"
   ]
  },
  {
   "cell_type": "code",
   "execution_count": null,
   "metadata": {},
   "outputs": [],
   "source": []
  },
  {
   "cell_type": "markdown",
   "metadata": {},
   "source": [
    "<img src=\"https://t1.daumcdn.net/cfile/tistory/999F603E5ACB86A005?download.PNG\" width=\"100%\" height=\"100%\""
   ]
  }
 ],
 "metadata": {
  "kernelspec": {
   "display_name": "Python 3",
   "language": "python",
   "name": "python3"
  },
  "language_info": {
   "codemirror_mode": {
    "name": "ipython",
    "version": 3
   },
   "file_extension": ".py",
   "mimetype": "text/x-python",
   "name": "python",
   "nbconvert_exporter": "python",
   "pygments_lexer": "ipython3",
   "version": "3.6.5"
  }
 },
 "nbformat": 4,
 "nbformat_minor": 2
}
