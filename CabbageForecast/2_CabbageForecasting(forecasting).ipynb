{
 "cells": [
  {
   "cell_type": "markdown",
   "metadata": {},
   "source": [
    "## 저장된 학습 모델로 배추가격 예측하기"
   ]
  },
  {
   "cell_type": "markdown",
   "metadata": {},
   "source": [
    "## 학습모델을 저장하는 이유 \n",
    "- 만약 학습 모델을 저장하지 않고 사용자로 부터 배추가격 예측 요청이 발생할때마다 매번 학습을 해서 결과를 돌려준다면 시간이 오래 걸리고 많은 리소스가 소모\n",
    "- 오프라인에서 주기적으로 데이터를 이용해 학습진행 \n",
    "- 그결과를 저장해서 서버에서 실시간 요청에 따라 **이미 저장된 학습모델로 배추가격을 예측하는것이 효율적**"
   ]
  },
  {
   "cell_type": "code",
   "execution_count": 1,
   "metadata": {},
   "outputs": [],
   "source": [
    "# 패키지 임포트 \n",
    "import tensorflow as tf\n",
    "import numpy as np"
   ]
  },
  {
   "cell_type": "code",
   "execution_count": 2,
   "metadata": {},
   "outputs": [],
   "source": [
    "# 플레이스홀드, 가중치, 바이어스 값을 그대로 가져온다 이전 작업에서 했던것을 "
   ]
  },
  {
   "cell_type": "code",
   "execution_count": 3,
   "metadata": {},
   "outputs": [
    {
     "name": "stdout",
     "output_type": "stream",
     "text": [
      "WARNING:tensorflow:From C:\\Users\\sun41\\AppData\\Local\\Continuum\\anaconda3\\lib\\site-packages\\tensorflow\\python\\framework\\op_def_library.py:263: colocate_with (from tensorflow.python.framework.ops) is deprecated and will be removed in a future version.\n",
      "Instructions for updating:\n",
      "Colocations handled automatically by placer.\n"
     ]
    }
   ],
   "source": [
    "#플레이스 홀드로 x,y 값을 정의\n",
    "X = tf.placeholder(tf.float32, shape=[None, 4])\n",
    "Y = tf.placeholder(tf.float32, shape=[None, 1])\n",
    "# 가중치와 바이어스 값을 초기화 \n",
    "W =tf.Variable(tf.random_normal([4,1]), name=\"weight\")\n",
    "b = tf.Variable(tf.random_normal([1]),name=\"bias\")\n",
    "# 선형회귀모델을 그대로 이용"
   ]
  },
  {
   "cell_type": "code",
   "execution_count": 4,
   "metadata": {},
   "outputs": [],
   "source": [
    "# 가설도 그대로 가지고 온다 그래야 실제로 학습된 모델을 그대로 사용할수 있기때문이다. "
   ]
  },
  {
   "cell_type": "code",
   "execution_count": 5,
   "metadata": {},
   "outputs": [],
   "source": [
    "#가설을 설정 =>  선형회귀모델을 그대로 적용할수 있음 \n",
    "hypothesis = tf.matmul(X,W) + b"
   ]
  },
  {
   "cell_type": "code",
   "execution_count": 6,
   "metadata": {},
   "outputs": [],
   "source": [
    "# 저장된 학습모델을 부르는 객체를 초기화시기는 식을 작성해야한다. \n",
    "saver = tf.train.Saver()\n",
    "model = tf.global_variables_initializer()"
   ]
  },
  {
   "cell_type": "code",
   "execution_count": null,
   "metadata": {},
   "outputs": [],
   "source": [
    "# 네가지 변수를 받아온다. \n",
    "avg_temp = float(input('평균온도:'))\n",
    "min_temp = float(input('최저온도:'))\n",
    "mix_temp = float(input('최대온도:'))\n",
    "rain_fall = float(input('강수량:'))\n",
    "# 실행시키면  값을 입력하는 창이 뜸  "
   ]
  },
  {
   "cell_type": "markdown",
   "metadata": {},
   "source": [
    "15.5\n",
    "3.5\n",
    "20.5\n",
    "5"
   ]
  },
  {
   "cell_type": "code",
   "execution_count": 8,
   "metadata": {},
   "outputs": [
    {
     "name": "stdout",
     "output_type": "stream",
     "text": [
      "WARNING:tensorflow:From C:\\Users\\sun41\\AppData\\Local\\Continuum\\anaconda3\\lib\\site-packages\\tensorflow\\python\\training\\saver.py:1266: checkpoint_exists (from tensorflow.python.training.checkpoint_management) is deprecated and will be removed in a future version.\n",
      "Instructions for updating:\n",
      "Use standard file APIs to check for files with this prefix.\n",
      "INFO:tensorflow:Restoring parameters from ./data/saved.cpkt\n",
      "[4514.0566]\n"
     ]
    }
   ],
   "source": [
    "with tf.Session() as sess:\n",
    "    \n",
    "    sess.run(model)\n",
    "    \n",
    "    # 저장된 학습모델을 파일로부터 불러옵니다.\n",
    "    save_path = \"./data/saved.cpkt\"\n",
    "    saver.restore(sess, save_path)\n",
    "    \n",
    "    # 사용자의 입력값을 이용해 배열을 만듬\n",
    "    # 학습데이터가 이차원형식의 구조이기때문에 동일하게 구조를 매치 시켜준다.\n",
    "    data = ((avg_temp, min_temp, mix_temp, rain_fall),)\n",
    "    arr  = np.array(data, dtype = np.float32) # 근데 이거 왜 32 이로 함? \n",
    "    \n",
    "    # 예측을 수행한 뒤에 그 결과를 출력합니다. \n",
    "    x_data = arr[0:4]\n",
    "    dict   = sess.run( hypothesis, feed_dict = {X : x_data})\n",
    "    print(dict[0])"
   ]
  },
  {
   "cell_type": "code",
   "execution_count": null,
   "metadata": {},
   "outputs": [],
   "source": [
    "# 사용자가 특정한 변수로 금액을 예측하는것을 만들어봄 "
   ]
  },
  {
   "cell_type": "markdown",
   "metadata": {},
   "source": [
    "## 기초 데이터 시각화 \n",
    " - 엑셀을 이용해서 기초데이터를 시각화하는 법을 공부 \n",
    " \n",
    " ### 시각화가 필요한이유\n",
    "- 모델을 돌려 보아도 입력값과 결과 값의 상관관계를 찾아내는것이 쉽지 않다 \n",
    "- 이런경우 다양한 데이터를 수집해보고 데이터를 시각화를 통해서 상관관계를 유추"
   ]
  }
 ],
 "metadata": {
  "kernelspec": {
   "display_name": "Python 3",
   "language": "python",
   "name": "python3"
  },
  "language_info": {
   "codemirror_mode": {
    "name": "ipython",
    "version": 3
   },
   "file_extension": ".py",
   "mimetype": "text/x-python",
   "name": "python",
   "nbconvert_exporter": "python",
   "pygments_lexer": "ipython3",
   "version": "3.6.5"
  }
 },
 "nbformat": 4,
 "nbformat_minor": 2
}
