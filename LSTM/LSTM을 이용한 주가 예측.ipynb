{
 "cells": [
  {
   "cell_type": "code",
   "execution_count": null,
   "metadata": {},
   "outputs": [],
   "source": [
    "# 1. 과거 주가 정보를 수집하는 방법\n",
    "# 2. 시계열 예측 작업을 위한 데이터셋 형식을 구성하는 방법\n",
    "# 3. 회귀 모델을 사용해 미래 주가를 예측하는 방법\n",
    "# 4. 장단기 메모리(Long short-term memory, LSTM) 기초\n",
    "# 5. LSTM으로 예측 성능을 높이는 방법\n",
    "# 6. 텐서보드(Tensorboard)에 성능을 시각화하는 방법"
   ]
  },
  {
   "cell_type": "code",
   "execution_count": 1,
   "metadata": {},
   "outputs": [],
   "source": [
    "import numpy as np"
   ]
  },
  {
   "cell_type": "markdown",
   "metadata": {},
   "source": [
    "### 입력 데이터셋 - 코사인과 주가"
   ]
  },
  {
   "cell_type": "code",
   "execution_count": null,
   "metadata": {},
   "outputs": [],
   "source": [
    "# 시계열 데이터로 두 개의 일차원 신호를 사용"
   ]
  },
  {
   "cell_type": "code",
   "execution_count": 32,
   "metadata": {},
   "outputs": [],
   "source": [
    "# 1. 균일한 잡음이 추가된 코사인파\n",
    "# 점의 개수, 신호 주기, 균일한 잡음 생성기의 절대 강도가 매개변수로 주어졌을 때\n",
    "# 코사인 신호를 생성하는 함수\n",
    "\n",
    "def fetch_cosine_values(seq_len, frequency = 0.01, noise = 0.1) :\n",
    "    # random seed를 설정해 실험을 복제할 수 있게 한다\n",
    "    np.random.seed(101)\n",
    "    x = np.arange(0.0, seq_len, 1.0)\n",
    "    return np.cos(2 * np.pi * frequency * x) + np.random.uniform(low=-noise, high=noise, size=seq_len)"
   ]
  },
  {
   "cell_type": "code",
   "execution_count": 33,
   "metadata": {},
   "outputs": [
    {
     "name": "stdout",
     "output_type": "stream",
     "text": [
      "[ 1.00327973  0.82315051  0.21471184 -0.37471266 -0.7719616  -0.93322063\n",
      " -0.84762375 -0.23029438  0.35332577  0.74700479]\n"
     ]
    }
   ],
   "source": [
    "# 10개의 점, 0.1 크기의 잡음이 추가된 코사인의 전체 진동(따라서 주기가 0.1)을 한 번 출력\n",
    "print(fetch_cosine_values(10, frequency=0.1))"
   ]
  },
  {
   "cell_type": "code",
   "execution_count": 45,
   "metadata": {
    "scrolled": true
   },
   "outputs": [],
   "source": [
    "# print(np.arange(0.0, 10, 1.0))\n",
    "# x = np.arange(0.0, 10, 1.0)"
   ]
  },
  {
   "cell_type": "code",
   "execution_count": 46,
   "metadata": {},
   "outputs": [],
   "source": [
    "# print(2 * np.pi * 0.1 * x)"
   ]
  },
  {
   "cell_type": "code",
   "execution_count": 47,
   "metadata": {},
   "outputs": [],
   "source": [
    "# # np.pi : 3.141592653589793\n",
    "# np.cos(2 * np.pi * 0.1 * x)"
   ]
  },
  {
   "cell_type": "code",
   "execution_count": 48,
   "metadata": {},
   "outputs": [],
   "source": [
    "# np.random.seed(101)\n",
    "# np.cos(2 * np.pi * 0.1 * x) + np.random.uniform(low=-0.1, high=0.1, size=10)"
   ]
  },
  {
   "cell_type": "code",
   "execution_count": null,
   "metadata": {},
   "outputs": [],
   "source": []
  },
  {
   "cell_type": "code",
   "execution_count": null,
   "metadata": {},
   "outputs": [],
   "source": [
    "# 2. 실제 금융권\n",
    "# 파이썬 라이브러리 : quandl"
   ]
  },
  {
   "cell_type": "code",
   "execution_count": null,
   "metadata": {},
   "outputs": [],
   "source": [
    "# $ curl \"https://www.quandl.com/api/v3/datasets/WIKI/FB/data.csv\""
   ]
  },
  {
   "cell_type": "code",
   "execution_count": 4,
   "metadata": {},
   "outputs": [
    {
     "name": "stdout",
     "output_type": "stream",
     "text": [
      "{'Date': '2018-03-27', 'Open': '156.31', 'High': '162.85', 'Low': '150.75', 'Close': '152.19', 'Volume': '76787884.0', 'Ex-Dividend': '0.0', 'Split Ratio': '1.0', 'Adj. Open': '156.31', 'Adj. High': '162.85', 'Adj. Low': '150.75', 'Adj. Close': '152.19', 'Adj. Volume': '76787884.0'}\n"
     ]
    }
   ],
   "source": [
    "s1 = \"Date,Open,High,Low,Close,Volume,Ex-Dividend,Split Ratio,Adj. Open,Adj. High,Adj. Low,Adj. Close,Adj. Volume\"\n",
    "s2 = \"2018-03-27,156.31,162.85,150.75,152.19,76787884.0,0.0,1.0,156.31,162.85,150.75,152.19,76787884.0\"\n",
    "\n",
    "# print(s1.split(','))\n",
    "# print(s2.split(','))\n",
    "\n",
    "dic = {}\n",
    "for i, j in zip(s1.split(','), s2.split(',')) :\n",
    "    dic[i] = j\n",
    "print(dic)"
   ]
  },
  {
   "cell_type": "code",
   "execution_count": null,
   "metadata": {},
   "outputs": [],
   "source": [
    "# .csv\n",
    "# 날짜, 시가, 고가, 저가, 종가, 조정가, 몇 가지 거래량, *조정 마감가*"
   ]
  },
  {
   "cell_type": "code",
   "execution_count": null,
   "metadata": {},
   "outputs": [],
   "source": [
    "# 파이썬 API를 사용해 조정가를 추출하는 파이썬 함수\n",
    "# https://docs.quandl.com/v1.0/docs"
   ]
  },
  {
   "cell_type": "code",
   "execution_count": 5,
   "metadata": {},
   "outputs": [],
   "source": [
    "import os\n",
    "import pickle"
   ]
  },
  {
   "cell_type": "code",
   "execution_count": 6,
   "metadata": {},
   "outputs": [],
   "source": [
    "# $ pip install quandl\n",
    "import quandl"
   ]
  },
  {
   "cell_type": "code",
   "execution_count": 7,
   "metadata": {},
   "outputs": [],
   "source": [
    "# datetime.date를 API에서 필요로 하는 적합한 문자열 형식으로 변환하는 헬퍼 함수\n",
    "def date_obj_to_str(date_obj) :\n",
    "    return date_obj.strftime('%Y-%m-%d')"
   ]
  },
  {
   "cell_type": "code",
   "execution_count": 25,
   "metadata": {},
   "outputs": [],
   "source": [
    "# pickle\n",
    "# dump"
   ]
  },
  {
   "cell_type": "code",
   "execution_count": 8,
   "metadata": {},
   "outputs": [],
   "source": [
    "def save_pickle(something, path) :\n",
    "    if not os.path.exists(os.path.dirname(path)) :\n",
    "        os.makedirs(os.path.dirname(path))\n",
    "    with open(path, 'wb') as fh :\n",
    "        pickle.dump(something, fh, pickle.DEFAULT_PROTOCOL)"
   ]
  },
  {
   "cell_type": "code",
   "execution_count": 9,
   "metadata": {},
   "outputs": [],
   "source": [
    "# def load_pickle(path) :\n",
    "#     with open(path, 'rb') as fh :\n",
    "#        return pickle.load(fh)\n",
    "\n",
    "def load_pickle(path) :\n",
    "    with open(path, 'rb') as fh :\n",
    "        return pickle.load(fh)"
   ]
  },
  {
   "cell_type": "code",
   "execution_count": 10,
   "metadata": {},
   "outputs": [],
   "source": [
    "quandl.ApiConfig.api_key = \"b8siLwjzBZf5VMF28m9L\""
   ]
  },
  {
   "cell_type": "code",
   "execution_count": 11,
   "metadata": {},
   "outputs": [],
   "source": [
    "# 해당 종목 기호에 대한 과거 데이터를 가져오기 위해 \n",
    "# 호출 결과를 캐시에 저장하고 가져올 데이터의 시작과 끝의 타임스탬프를 지정할 수 있어야 한다.\n",
    "\n",
    "# 일차원 배열로 요청한 종목 기호에 대한 주가를 포함하고 있으며,\n",
    "# from_date에서 to_date로 정렬되어 있다\n",
    "\n",
    "# 캐싱은 함수 내에서 이뤄지며,\n",
    "# 이는 데이터가 캐시에서 발견되지 않으면 quandle API가 호출됨을 뜻한다\n",
    "def fetch_stock_price(symbol, from_date, to_date, cache_path = './tmp/prices/') :\n",
    "    assert(from_date <= to_date)\n",
    "    filename = \"{}_{}_{}.pk\".format(symbol, str(from_date), str(to_date))\n",
    "    price_filepath = os.path.join(cache_path, filename)\n",
    "    try :\n",
    "        prices = load_pickle(price_filepath)\n",
    "        print(\"loaded from\", price_filepath)\n",
    "    except IOError :\n",
    "        historic = quandl.get(\"WIKI/\" + symbol, \n",
    "                              start_date = date_obj_to_str(from_date), \n",
    "                              end_date = date_obj_to_str(to_date))\n",
    "        prices = historic[\"Adj. Close\"].tolist()\n",
    "        save_pickle(prices, price_filepath)\n",
    "        print(\"saved into\", price_filepath)\n",
    "    return prices"
   ]
  },
  {
   "cell_type": "code",
   "execution_count": 13,
   "metadata": {},
   "outputs": [],
   "source": [
    "# import os\n",
    "# import pickle\n",
    "# import quandl\n",
    "# import numpy as np\n",
    "\n",
    "\n",
    "# def date_obj_to_str(date_obj):\n",
    "#     return date_obj.strftime('%Y-%m-%d')\n",
    "\n",
    "\n",
    "# def save_pickle(something, path):\n",
    "#     if not os.path.exists(os.path.dirname(path)):\n",
    "#         os.makedirs(os.path.dirname(path))\n",
    "#     with open(path, 'wb') as fh:\n",
    "#         pickle.dump(something, fh, pickle.DEFAULT_PROTOCOL)\n",
    "\n",
    "\n",
    "# def load_pickle(path):\n",
    "#     with open(path, 'rb') as fh:\n",
    "#         return pickle.load(fh)\n",
    "\n",
    "\n",
    "# def fetch_stock_price(symbol,\n",
    "#                       from_date,\n",
    "#                       to_date,\n",
    "#                       cache_path=\"./tmp/prices/\"):\n",
    "#     assert(from_date <= to_date)\n",
    "\n",
    "#     filename = \"{}_{}_{}.pk\".format(symbol, str(from_date), str(to_date))\n",
    "#     price_filepath = os.path.join(cache_path, filename)\n",
    "\n",
    "#     try:\n",
    "#         prices = load_pickle(price_filepath)\n",
    "#         print(\"loaded from\", price_filepath)\n",
    "\n",
    "#     except IOError:\n",
    "#         historic = quandl.get(\"WIKI/\" + symbol,\n",
    "#                               start_date=date_obj_to_str(from_date),\n",
    "#                               end_date=date_obj_to_str(to_date))\n",
    "\n",
    "#         prices = historic[\"Adj. Close\"].tolist()\n",
    "#         save_pickle(prices, price_filepath)\n",
    "#         print(\"saved into\", price_filepath)\n",
    "\n",
    "#     return prices"
   ]
  },
  {
   "cell_type": "code",
   "execution_count": 15,
   "metadata": {},
   "outputs": [],
   "source": [
    "import datetime"
   ]
  },
  {
   "cell_type": "code",
   "execution_count": 17,
   "metadata": {},
   "outputs": [],
   "source": [
    "# 2017.01 구글 주가(종목 기호 : GOOG) 조정가 출력\n",
    "# print(fetch_stock_price(\"GOOG\", datetime.date(2017, 1, 1), datetime.date(2017, 1, 31)))"
   ]
  },
  {
   "cell_type": "code",
   "execution_count": null,
   "metadata": {},
   "outputs": [],
   "source": []
  },
  {
   "cell_type": "markdown",
   "metadata": {},
   "source": [
    "### 데이터셋 포맷 구성"
   ]
  },
  {
   "cell_type": "code",
   "execution_count": null,
   "metadata": {},
   "outputs": [],
   "source": [
    "def format_dataset(values, temporal_features) :\n",
    "    # feat_splits = [ values[i:i+temporal_features] for i in range(len(values) - temporal_features) ]\n",
    "    feat_splits = []\n",
    "    for i in range(len(values) - temporal_features) :\n",
    "        feat_splits.append(values[i:i+temporal_features])\n",
    "    \n",
    "    # 모든 관측값은 레이블과 함께 세로로 연결\n",
    "    feats = np.vstack(feat_splits)\n",
    "    labels = np.array(values[temporal_features :])\n",
    "    \n",
    "    # 정해진 개수의 열을 갖는 관측값과 레이블 벡터\n",
    "    return feats, labels"
   ]
  },
  {
   "cell_type": "code",
   "execution_count": null,
   "metadata": {},
   "outputs": [],
   "source": []
  },
  {
   "cell_type": "code",
   "execution_count": 41,
   "metadata": {
    "scrolled": false
   },
   "outputs": [
    {
     "name": "stderr",
     "output_type": "stream",
     "text": [
      "C:\\Users\\User\\Anaconda3\\lib\\site-packages\\seaborn\\timeseries.py:183: UserWarning: The tsplot function is deprecated and will be removed or replaced (in a substantially altered version) in a future release.\n",
      "  warnings.warn(msg, UserWarning)\n"
     ]
    },
    {
     "data": {
      "image/png": "[encoded data removed]",
      "text/plain": [
       "<Figure size 432x288 with 1 Axes>"
      ]
     },
     "metadata": {},
     "output_type": "display_data"
    }
   ],
   "source": [
    "import datetime\n",
    "import matplotlib.pyplot as plt\n",
    "import numpy as np\n",
    "import seaborn\n",
    "\n",
    "from tools import fetch_cosine_values, fetch_stock_price, format_dataset\n",
    "np.set_printoptions(precision=2)\n",
    "\n",
    "# Print 2 oscillations (20 points, with a frequency of 0.1, i.e. a period of 10)\n",
    "# 주기 10, 20개의 점을 갖는 코사인 시계열\n",
    "cos_values = fetch_cosine_values(20, frequency = 0.1)\n",
    "seaborn.tsplot(cos_values)\n",
    "plt.xlabel(\"Days since start of the experiment\")\n",
    "plt.ylabel(\"Value of the cosine function\")\n",
    "plt.title(\"Cosine time series over time\")\n",
    "plt.show()"
   ]
  },
  {
   "cell_type": "code",
   "execution_count": 50,
   "metadata": {},
   "outputs": [
    {
     "name": "stdout",
     "output_type": "stream",
     "text": [
      "[ 1.    0.82  0.21 -0.37 -0.77 -0.93 -0.85 -0.23  0.35  0.75  1.01  0.78\n",
      "  0.25 -0.25 -0.72 -1.05 -0.89 -0.29  0.35  0.76]\n"
     ]
    }
   ],
   "source": [
    "print(cos_values)"
   ]
  },
  {
   "cell_type": "code",
   "execution_count": 51,
   "metadata": {},
   "outputs": [
    {
     "name": "stdout",
     "output_type": "stream",
     "text": [
      "(20,)\n"
     ]
    }
   ],
   "source": [
    "print(cos_values.shape)"
   ]
  },
  {
   "cell_type": "code",
   "execution_count": 81,
   "metadata": {},
   "outputs": [],
   "source": [
    "# features_size = 5"
   ]
  },
  {
   "cell_type": "code",
   "execution_count": 82,
   "metadata": {},
   "outputs": [],
   "source": [
    "# features_splits = []\n",
    "# for i in range(len(cos_values) - features_size) :\n",
    "#     # print(cos_values[i:i+features_size])\n",
    "#     features_splits.append(cos_values[i:i+features_size])"
   ]
  },
  {
   "cell_type": "code",
   "execution_count": 83,
   "metadata": {},
   "outputs": [],
   "source": [
    "# features_splits"
   ]
  },
  {
   "cell_type": "code",
   "execution_count": 84,
   "metadata": {},
   "outputs": [],
   "source": [
    "# feats = np.vstack(features_splits)"
   ]
  },
  {
   "cell_type": "code",
   "execution_count": 85,
   "metadata": {},
   "outputs": [],
   "source": [
    "# feats"
   ]
  },
  {
   "cell_type": "code",
   "execution_count": 54,
   "metadata": {},
   "outputs": [
    {
     "name": "stdout",
     "output_type": "stream",
     "text": [
      "minibatch_cos_X.shape (15, 5)\n",
      "minibatch_cos_y.shape (15,)\n"
     ]
    }
   ],
   "source": [
    "# 위 시계열 데이터를\n",
    "# 머신러닝 알고리즘에서 받아들일 수 있는 형식으로 바꿔서\n",
    "# 5개의 열을 갖는 관측행렬을 만든다\n",
    "\n",
    "features_size = 5\n",
    "minibatch_cos_X , minibatch_cos_y = format_dataset(cos_values, features_size)\n",
    "print('minibatch_cos_X.shape', minibatch_cos_X.shape)\n",
    "print('minibatch_cos_y.shape', minibatch_cos_y.shape)"
   ]
  },
  {
   "cell_type": "code",
   "execution_count": 86,
   "metadata": {},
   "outputs": [
    {
     "data": {
      "text/plain": [
       "array([[ 1.  ,  0.82,  0.21, -0.37, -0.77],\n",
       "       [ 0.82,  0.21, -0.37, -0.77, -0.93],\n",
       "       [ 0.21, -0.37, -0.77, -0.93, -0.85],\n",
       "       [-0.37, -0.77, -0.93, -0.85, -0.23],\n",
       "       [-0.77, -0.93, -0.85, -0.23,  0.35],\n",
       "       [-0.93, -0.85, -0.23,  0.35,  0.75],\n",
       "       [-0.85, -0.23,  0.35,  0.75,  1.01],\n",
       "       [-0.23,  0.35,  0.75,  1.01,  0.78],\n",
       "       [ 0.35,  0.75,  1.01,  0.78,  0.25],\n",
       "       [ 0.75,  1.01,  0.78,  0.25, -0.25],\n",
       "       [ 1.01,  0.78,  0.25, -0.25, -0.72],\n",
       "       [ 0.78,  0.25, -0.25, -0.72, -1.05],\n",
       "       [ 0.25, -0.25, -0.72, -1.05, -0.89],\n",
       "       [-0.25, -0.72, -1.05, -0.89, -0.29],\n",
       "       [-0.72, -1.05, -0.89, -0.29,  0.35]])"
      ]
     },
     "execution_count": 86,
     "metadata": {},
     "output_type": "execute_result"
    }
   ],
   "source": [
    "# 15x5 크기의 관측값 행렬\n",
    "minibatch_cos_X"
   ]
  },
  {
   "cell_type": "code",
   "execution_count": 87,
   "metadata": {},
   "outputs": [
    {
     "data": {
      "text/plain": [
       "array([-0.93, -0.85, -0.23,  0.35,  0.75,  1.01,  0.78,  0.25, -0.25,\n",
       "       -0.72, -1.05, -0.89, -0.29,  0.35,  0.76])"
      ]
     },
     "execution_count": 87,
     "metadata": {},
     "output_type": "execute_result"
    }
   ],
   "source": [
    "# 15개의 요소를 갖는 레이블 벡터\n",
    "minibatch_cos_y"
   ]
  },
  {
   "cell_type": "code",
   "execution_count": 105,
   "metadata": {},
   "outputs": [
    {
     "name": "stdout",
     "output_type": "stream",
     "text": [
      "Observation 0 : X=[ 1.    0.82  0.21 -0.37 -0.77] y=-0.9332206274727847\n",
      "Observation 1 : X=[ 0.82  0.21 -0.37 -0.77 -0.93] y=-0.8476237504404999\n",
      "Observation 2 : X=[ 0.21 -0.37 -0.77 -0.93 -0.85] y=-0.23029437843826808\n",
      "Observation 3 : X=[-0.37 -0.77 -0.93 -0.85 -0.23] y=0.35332576672860816\n",
      "Observation 4 : X=[-0.77 -0.93 -0.85 -0.23  0.35] y=0.7470047852159067\n"
     ]
    },
    {
     "data": {
      "image/png": "[encoded data removed]",
      "text/plain": [
       "<Figure size 432x288 with 5 Axes>"
      ]
     },
     "metadata": {},
     "output_type": "display_data"
    }
   ],
   "source": [
    "# 시각화\n",
    "samples_to_plot = 5\n",
    "f, axarr = plt.subplots(samples_to_plot, sharex = True)\n",
    "for i in range(samples_to_plot) :\n",
    "    feats = minibatch_cos_X[i, :]\n",
    "    label = minibatch_cos_y[i]\n",
    "    print(\"Observation {} : X={} y={}\".format(i, feats, label))\n",
    "    \n",
    "    # plt.subplot(samples_to_plot, 1, i+1)\n",
    "    axarr[i].plot(range(i, features_size+i), feats, '--o')\n",
    "    axarr[i].plot([features_size+i], label, 'rx')\n",
    "    axarr[i].set_ylim([-1.1, 1.1])\n",
    "\n",
    "plt.xlabel(\"Days since start of the experiment\")\n",
    "axarr[2].set_ylabel(\"Value of the cosine function\")\n",
    "axarr[0].set_title(\"Visualization of some observations : Features (blue) and Labels (red)\")\n",
    "plt.show()"
   ]
  },
  {
   "cell_type": "code",
   "execution_count": null,
   "metadata": {},
   "outputs": [],
   "source": []
  },
  {
   "cell_type": "code",
   "execution_count": 124,
   "metadata": {},
   "outputs": [],
   "source": [
    "# os.path.join(\"./tmp/prices/\", \"MSFT_2015-01-01_2016-12-31.pk\")\n",
    "# './tmp/prices/MSFT_2015-01-01_2016-12-31.pk'"
   ]
  },
  {
   "cell_type": "code",
   "execution_count": 140,
   "metadata": {
    "scrolled": false
   },
   "outputs": [
    {
     "name": "stdout",
     "output_type": "stream",
     "text": [
      "loaded from ./tmp/prices/MSFT_2015-01-01_2016-12-31.pk\n",
      "loaded from ./tmp/prices/KO_2015-01-01_2016-12-31.pk\n",
      "loaded from ./tmp/prices/AAL_2015-01-01_2016-12-31.pk\n",
      "loaded from ./tmp/prices/MMM_2015-01-01_2016-12-31.pk\n",
      "loaded from ./tmp/prices/AXP_2015-01-01_2016-12-31.pk\n",
      "loaded from ./tmp/prices/GE_2015-01-01_2016-12-31.pk\n",
      "loaded from ./tmp/prices/GM_2015-01-01_2016-12-31.pk\n",
      "loaded from ./tmp/prices/JPM_2015-01-01_2016-12-31.pk\n",
      "loaded from ./tmp/prices/UPS_2015-01-01_2016-12-31.pk\n"
     ]
    },
    {
     "data": {
      "image/png": "[encoded data removed]",
      "text/plain": [
       "<Figure size 432x288 with 1 Axes>"
      ]
     },
     "metadata": {},
     "output_type": "display_data"
    }
   ],
   "source": [
    "symbols = [\"MSFT\", \"KO\", \"AAL\", \"MMM\", \"AXP\", \"GE\", \"GM\", \"JPM\", \"UPS\"]\n",
    "ax = plt.subplot(1, 1, 1)\n",
    "for sym in symbols :\n",
    "    prices = fetch_stock_price(sym, datetime.date(2015, 1, 1), datetime.date(2016, 12, 31))\n",
    "    ax.plot(range(len(prices)), prices, label = sym)\n",
    "\n",
    "handles, labels = ax.get_legend_handles_labels()\n",
    "ax.legend(handles, labels)\n",
    "plt.xlabel(\"Trading days since 2015-1-1\")\n",
    "plt.ylabel(\"Stock price [$]\")\n",
    "plt.title(\"Prices of some American stocks in trading days of 2015 and 2016\")\n",
    "plt.show()"
   ]
  },
  {
   "cell_type": "code",
   "execution_count": 139,
   "metadata": {},
   "outputs": [],
   "source": [
    "# handles, labels = ax.get_legend_handles_labels()\n",
    "# handles, labels"
   ]
  },
  {
   "cell_type": "code",
   "execution_count": 133,
   "metadata": {},
   "outputs": [],
   "source": [
    "# historic = quandl.get(\"WIKI/\" + \"MSFT\", start_date=date_obj_to_str(datetime.date(2015, 1, 1)), end_date=date_obj_to_str(datetime.date(2016, 12, 31)))"
   ]
  },
  {
   "cell_type": "code",
   "execution_count": 134,
   "metadata": {},
   "outputs": [],
   "source": [
    "# historic[\"Adj. Close\"]"
   ]
  },
  {
   "cell_type": "code",
   "execution_count": 135,
   "metadata": {},
   "outputs": [],
   "source": [
    "# historic[\"Adj. Close\"].tolist()"
   ]
  },
  {
   "cell_type": "code",
   "execution_count": null,
   "metadata": {},
   "outputs": [],
   "source": []
  },
  {
   "cell_type": "markdown",
   "metadata": {},
   "source": [
    "### 회귀 모델을 이용한 미래 주가 예측"
   ]
  },
  {
   "cell_type": "code",
   "execution_count": null,
   "metadata": {},
   "outputs": [],
   "source": [
    "# 관측 행렬과 실제 값 레이블이 주어지면 \n",
    "# 처음에는 이 문제를 회귀 문제로 풀고 싶기 마련이다.\n",
    "# 이 경우 회귀는 매우 간단\n",
    "# 수치 벡터에서 수치 값을 예측하는 것\n",
    "# => 이상적인 방법이 아니다\n",
    "\n",
    "# 문제를 회귀 문제로 다루게 되면\n",
    "# 알고리즘은 각 특징이 독립적이라고 간주해야 한다\n",
    "# 그러나 이 예제에서 각 특징은\n",
    "# 동일한 시계열의 슬라이딩 윈도우이므로 서로 상관되어 있다\n",
    "\n",
    "# 우선 '각 특징이 독립적'이라는 단순한 가정에서 시작"
   ]
  },
  {
   "cell_type": "code",
   "execution_count": null,
   "metadata": {},
   "outputs": [],
   "source": []
  },
  {
   "cell_type": "code",
   "execution_count": null,
   "metadata": {},
   "outputs": [],
   "source": [
    "# 행렬을 일차원 배열로 변환하는 헬퍼 함수\n",
    "def matrix_to_array(m) :\n",
    "    return np.asarray(m).reshape(-1)"
   ]
  },
  {
   "cell_type": "code",
   "execution_count": null,
   "metadata": {},
   "outputs": [],
   "source": []
  },
  {
   "cell_type": "code",
   "execution_count": null,
   "metadata": {},
   "outputs": [],
   "source": [
    "# 평가 함수\n",
    "\n",
    "import numpy as np\n",
    "from matplotlib import pylab as plt\n",
    "from tools import matrix_to_array\n",
    "\n",
    "def evaluate_ts(features, y_true, y_pred) :\n",
    "    print(\"Evaluation of the predictions :\")\n",
    "    print(\"MSE : \", np.mean(np.square(y_true - y_pred)))\n",
    "    print(\"MAE : \", np.mean(np.abs(y_true - y_pred)))\n",
    "    \n",
    "    print(\"Benchmark : if prediction == last feature\")\n",
    "    print(\"MSE : \", np.mean(np.square(features[:, -1] - y_true)))\n",
    "    print(\"mae : \", np.mean(np.abs(features[:, -1] - y_true)))\n",
    "    \n",
    "    plt.plot(matrix_to_array(y_true), 'b')\n",
    "    plt.plot(matrix_to_array(y_pred), 'r--')\n",
    "    plt.xlabel(\"Days\")\n",
    "    plt.ylabel(\"Predicted and true values\")\n",
    "    plt.title(\"Predicted (Red) VS Real (Blue)\")\n",
    "    plt.show()\n",
    "    \n",
    "    error = np.abs(matrix_to_array(y_pred) - matrix_to_array(y_true))\n",
    "    plt.plot(error, 'r')\n",
    "    fit = np.polyfit(range(len(error)), error, deg = 1)\n",
    "    plt.plot(fit[0] * range(len(error)) + fit[1], '--')\n",
    "    plt.xlabel(\"Days\")\n",
    "    plt.ylabel(\"Prediction error L1 norm\")\n",
    "    plt.title(\"Prediction error (absolute) and trendline\")\n",
    "    plt.show()"
   ]
  },
  {
   "cell_type": "code",
   "execution_count": null,
   "metadata": {},
   "outputs": [],
   "source": []
  },
  {
   "cell_type": "code",
   "execution_count": null,
   "metadata": {},
   "outputs": [],
   "source": [
    "# 모델링\n",
    "# regression_cosine\n",
    "\n",
    "import matplotlib.pyplot as plt\n",
    "import numpy as np\n",
    "import tensorflow as tf\n",
    "from evaluate_ts import evaluate_ts\n",
    "from tensorflow.contrib import rnn\n",
    "from tools import fetch_cosine_values, format_dataset\n",
    "\n",
    "tf.reset_default_graph()\n",
    "tf.set_random_seed(101)\n",
    "\n",
    "# Settings for the dataset creation\n",
    "# 특징 크기로 대략 한 달의 영업일수에 해당하는 20을 사용\n",
    "# => 과거 코사인의 값이 20개가 주어졌을 때 다음 날의 값을 예측하는 문제\n",
    "feat_dimension = 20\n",
    "train_size = 250\n",
    "test_size = 250\n",
    "\n",
    "# Settings for tensorflow\n",
    "# 1. 학습 속도\n",
    "# 2. 사용할 최적화 알고리즘\n",
    "# 3. 세대 수(훈련시킬 때 훈련 데이터셋이 학습 모델에 얼마나 많이 들어가는지)\n",
    "learning_rate = 0.01\n",
    "optimizer = tf.train.AdamOptimizer\n",
    "n_epochs = 10\n",
    "\n",
    "cos_values = fetch_cosine_values(train_size + test_size + feat_dimension)\n",
    "minibatch_cos_X, minibatch_cos_y = format_dataset(cos_values, feat_dimension)\n",
    "train_X = minibatch_cos_X[:train_size, :].astype(np.float32)\n",
    "train_y = minibatch_cos_y[:train_size].astype(np.float32)"
   ]
  },
  {
   "cell_type": "code",
   "execution_count": 150,
   "metadata": {},
   "outputs": [],
   "source": [
    "cos_values = fetch_cosine_values(250 + 250 + 20)\n",
    "minibatch_cos_X, minibatch_cos_y = format_dataset(cos_values, 20)"
   ]
  },
  {
   "cell_type": "code",
   "execution_count": 156,
   "metadata": {},
   "outputs": [
    {
     "data": {
      "text/plain": [
       "'\\n[[ 3.46e-01]\\n [ 2.52e-01]\\n [ 9.71e-02]\\n [ 5.29e-02]\\n [ 1.84e-04]\\n [ 9.89e-02]\\n ...\\n [-6.76e-01]\\n [-5.23e-01]\\n [-5.22e-01]\\n [-5.32e-01]\\n [-5.23e-01]\\n [-4.02e-01]]\\n'"
      ]
     },
     "execution_count": 156,
     "metadata": {},
     "output_type": "execute_result"
    }
   ],
   "source": [
    "# print(minibatch_cos_y[:250].reshape(-1, 1))\n",
    "'''\n",
    "[[ 3.46e-01]\n",
    " [ 2.52e-01]\n",
    " [ 9.71e-02]\n",
    " [ 5.29e-02]\n",
    " [ 1.84e-04]\n",
    " [ 9.89e-02]\n",
    " ...\n",
    " [-6.76e-01]\n",
    " [-5.23e-01]\n",
    " [-5.22e-01]\n",
    " [-5.32e-01]\n",
    " [-5.23e-01]\n",
    " [-4.02e-01]]\n",
    "'''"
   ]
  }
 ],
 "metadata": {
  "kernelspec": {
   "display_name": "Python 3",
   "language": "python",
   "name": "python3"
  },
  "language_info": {
   "codemirror_mode": {
    "name": "ipython",
    "version": 3
   },
   "file_extension": ".py",
   "mimetype": "text/x-python",
   "name": "python",
   "nbconvert_exporter": "python",
   "pygments_lexer": "ipython3",
   "version": "3.6.5"
  }
 },
 "nbformat": 4,
 "nbformat_minor": 2
}
